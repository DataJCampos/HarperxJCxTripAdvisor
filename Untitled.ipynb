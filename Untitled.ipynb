{
 "cells": [
  {
   "cell_type": "markdown",
   "metadata": {},
   "source": [
    "Project Goal: \n",
    "- Data Mining for increasing and predicting sales for tourism \n",
    "- Use this algorithm to use for car sales "
   ]
  },
  {
   "cell_type": "code",
   "execution_count": null,
   "metadata": {},
   "outputs": [],
   "source": [
    "Data Understanding "
   ]
  },
  {
   "cell_type": "code",
   "execution_count": null,
   "metadata": {},
   "outputs": [],
   "source": [
    "Metrics"
   ]
  },
  {
   "cell_type": "code",
   "execution_count": 2,
   "metadata": {},
   "outputs": [
    {
     "name": "stdout",
     "output_type": "stream",
     "text": [
      "Request failed with status code 401\n"
     ]
    }
   ],
   "source": [
    "import requests\n",
    "import csv\n",
    "\n",
    "# Define the URL for the TripAdvisor API endpoint\n",
    "url = 'https://api.tripadvisor.com/api/partner/2.0/location/123456/reviews?key=YOUR_API_KEY'\n",
    "\n",
    "# Make a request to the API endpoint\n",
    "response = requests.get(url)\n",
    "\n",
    "# Check the response status code\n",
    "if response.status_code == 200:\n",
    "    # If the request was successful, parse the JSON data and save it to a CSV file\n",
    "    data = response.json()\n",
    "    with open('tripadvisor_data.csv', 'w', newline='', encoding='utf-8') as f:\n",
    "        writer = csv.writer(f)\n",
    "        # Write the header row\n",
    "        writer.writerow(['review_id', 'rating', 'title', 'text'])\n",
    "        # Write each review as a separate row\n",
    "        for review in data['data']:\n",
    "            writer.writerow([review['review_id'], review['rating'], review['title'], review['text']])\n",
    "    print('Data saved to tripadvisor_data.csv')\n",
    "else:\n",
    "    # If the request was not successful, print the response status code\n",
    "    print(f'Request failed with status code {response.status_code}')\n",
    "\n"
   ]
  },
  {
   "cell_type": "code",
   "execution_count": null,
   "metadata": {},
   "outputs": [],
   "source": [
    "Data Preparation"
   ]
  },
  {
   "cell_type": "code",
   "execution_count": null,
   "metadata": {},
   "outputs": [],
   "source": [
    "Data Modeling"
   ]
  },
  {
   "cell_type": "code",
   "execution_count": null,
   "metadata": {},
   "outputs": [],
   "source": [
    "Conclusion"
   ]
  }
 ],
 "metadata": {
  "kernelspec": {
   "display_name": "Python 3",
   "language": "python",
   "name": "python3"
  },
  "language_info": {
   "codemirror_mode": {
    "name": "ipython",
    "version": 3
   },
   "file_extension": ".py",
   "mimetype": "text/x-python",
   "name": "python",
   "nbconvert_exporter": "python",
   "pygments_lexer": "ipython3",
   "version": "3.8.5"
  }
 },
 "nbformat": 4,
 "nbformat_minor": 4
}
